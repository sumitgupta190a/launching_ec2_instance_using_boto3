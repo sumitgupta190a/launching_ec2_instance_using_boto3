{
 "cells": [
  {
   "cell_type": "code",
   "execution_count": 1,
   "id": "2b614795",
   "metadata": {},
   "outputs": [],
   "source": [
    "pip install boto3"
   ]
  },
  {
   "cell_type": "code",
   "execution_count": null,
   "id": "d0e26130",
   "metadata": {},
   "outputs": [],
   "source": [
    "import boto3"
   ]
  },
  {
   "cell_type": "code",
   "execution_count": 4,
   "id": "9a2ca4f6",
   "metadata": {},
   "outputs": [],
   "source": [
    "myec2 = boto3.resource(\"ec2\")"
   ]
  },
  {
   "cell_type": "code",
   "execution_count": 5,
   "id": "55b36ab9",
   "metadata": {
    "scrolled": true
   },
   "outputs": [],
   "source": [
    "#Shift + tap: Help of this function\n",
    "response = myec2.create_instances(\n",
    "    ImageId=\"ami-0da59f1af71ea4ad2\",\n",
    "    InstanceType=\"t2.micro\",\n",
    "    MaxCount=1,  #here you can give the number of instances you want to launch\n",
    "    MinCount=1\n",
    ")"
   ]
  },
  {
   "cell_type": "code",
   "execution_count": 6,
   "id": "11e5a650",
   "metadata": {},
   "outputs": [],
   "source": []
  },
  {
   "cell_type": "code",
   "execution_count": null,
   "id": "64f75058",
   "metadata": {},
   "outputs": [],
   "source": []
  }
 ],
 "metadata": {
  "kernelspec": {
   "display_name": "Python 3 (ipykernel)",
   "language": "python",
   "name": "python3"
  },
  "language_info": {
   "codemirror_mode": {
    "name": "ipython",
    "version": 3
   },
   "file_extension": ".py",
   "mimetype": "text/x-python",
   "name": "python",
   "nbconvert_exporter": "python",
   "pygments_lexer": "ipython3",
   "version": "3.10.9"
  }
 },
 "nbformat": 4,
 "nbformat_minor": 5
}
